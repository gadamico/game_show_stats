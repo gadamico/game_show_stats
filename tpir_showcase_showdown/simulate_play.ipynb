{
 "cells": [
  {
   "cell_type": "markdown",
   "metadata": {},
   "source": [
    "# TPIR Showcase Showdown Simulate Play"
   ]
  },
  {
   "cell_type": "code",
   "execution_count": 3,
   "metadata": {},
   "outputs": [],
   "source": [
    "import os, sys\n",
    "\n",
    "sys.path.append(os.pardir)"
   ]
  },
  {
   "cell_type": "code",
   "execution_count": 4,
   "metadata": {},
   "outputs": [],
   "source": [
    "from src.functions import *\n",
    "import numpy as np\n",
    "import pandas as pd\n",
    "from matplotlib import pyplot as plt\n",
    "\n",
    "%load_ext autoreload\n",
    "%autoreload 2"
   ]
  },
  {
   "cell_type": "code",
   "execution_count": null,
   "metadata": {},
   "outputs": [],
   "source": [
    "first_player()"
   ]
  },
  {
   "cell_type": "code",
   "execution_count": null,
   "metadata": {},
   "outputs": [],
   "source": [
    "second_player(85)"
   ]
  },
  {
   "cell_type": "code",
   "execution_count": null,
   "metadata": {},
   "outputs": [],
   "source": [
    "def third_player(play1, play2):\n",
    "    scores = dict(enumerate([play1, play2], start=1))\n",
    "    leader = {k: v for k, v in scores.items() if v == max(scores.values())}\n",
    "    leader_val = [v for v in leader.values()][0]\n",
    "    if len(leader) == 2:\n",
    "        print(f'Player1 and Player2 are tied at {play1}!')\n",
    "    else:\n",
    "        leader_num = [k for k in leader.keys()][0]\n",
    "        print(f'Player{leader_num} has {leader_val}.')\n",
    "    choices = [5*i for i in range(1, 21)]\n",
    "    spin1 = np.random.choice(choices)\n",
    "    print(f'Player3 spun {spin1}.')\n",
    "    if spin1 > leader_val:\n",
    "        print(f'Does Player3 want to go for the $1.00?')\n",
    "        choice = input('Yes or No: ')\n",
    "        if choice == 'Yes':\n",
    "            spin2 = np.random.choice(choices)\n",
    "            if spin1 + spin2 > 100:\n",
    "                play3 = 0\n",
    "                print('Player3 is over!')\n",
    "            else:\n",
    "                play3 = spin1 + spin2\n",
    "                print(f'Player3 wins with {play3}.')\n",
    "        else:\n",
    "            play3 = spin1\n",
    "            print(f'Player3 wins with {play3}.')\n",
    "        return play3\n",
    "    elif spin1 == leader_val:\n",
    "        if len(leader) == 2:\n",
    "            print(f'We have a three-way tie at {leader_val}!')\n",
    "            print(f'Does Player3 want to spin again?')\n",
    "            choice = input('Yes or No: ')\n",
    "            if choice == 'Yes':\n",
    "                spin2 = np.random.choice(choices)\n",
    "                if spin1 + spin2 > 100:\n",
    "                    play3 = 0\n",
    "                    print('Player3 is over!')\n",
    "                else:\n",
    "                    play3 = spin1 + spin2\n",
    "                    print(f'Player3 wins with {play3}.')\n",
    "            else:\n",
    "                print(f'Each player gets one more spin.')\n",
    "                play1f = np.random.choice(choices)\n",
    "                print(f'Player1 spun {play1f}.')\n",
    "                play2f = np.random.choice(choices)\n",
    "                print(f'Player2 spun {play2f}.')\n",
    "                if play2f == play1f:\n",
    "                    print('Player2 must spin again.')\n",
    "                    play2f += np.random.choice(choices)\n",
    "                    if play2f > 100:\n",
    "                        print('Player2 is over!')\n",
    "                        play2f = 0\n",
    "                elif play2f < play1f:\n",
    "                    play2f = 0\n",
    "                else:\n",
    "                    play1f = 0\n",
    "                    print(f'Player2 leads with {play2f}.')\n",
    "                play3f = np.random.choice(choices)\n",
    "                print(f'Player3 spun {play3f}.')\n",
    "                if play3f == play1f or play3f == play2f:\n",
    "                    print('Player3 must spin again.')\n",
    "                    play3f += np.random.choice(choices)\n",
    "                    if play3f > 100:\n",
    "                        print('Player3 is over!')\n",
    "                        play3f = 0\n",
    "                finals = dict(enumerate([play1f, play2f, play3f], start=1))\n",
    "                winner = {k: v for k, v in finals.items() if v == max(finals.values())}\n",
    "                print(f'The winner is {[k for k in winner.keys()][0]}!')\n",
    "                return play3f\n",
    "        else:\n",
    "            print(f'We have a tie at {leader_val}!')\n",
    "            print(f'Does Player3 want to spin again?')\n",
    "            choice = input('Yes or No: ')\n",
    "            if choice == 'Yes':\n",
    "                spin2 = np.random.choice(choices)\n",
    "                if spin1 + spin2 > 100:\n",
    "                    play3 = 0\n",
    "                    print('Player3 is over!')\n",
    "                else:\n",
    "                    play3 = spin1 + spin2\n",
    "                    print(f'Player3 wins with {play3}.')\n",
    "            else:\n",
    "                print(f'We have a tie between Player3 and Player{leader_num}.')\n",
    "                print(f'Each player gets one more spin.')\n",
    "                play1f = np.random.choice(choices)\n",
    "                print(f'Player{leader_num} spun {play1f}.')\n",
    "                play2f = np.random.choice(choices)\n",
    "                print(f'Player3 spun {play2f}.')\n",
    "                if play2f == play1f:\n",
    "                    print('Player3 must spin again.')\n",
    "                    play2f += np.random.choice(choices)\n",
    "                    if play2f > 100:\n",
    "                        print('Player3 is over!')\n",
    "                        play2f = 0\n",
    "                elif play2f < play1f:\n",
    "                    play2f = 0\n",
    "                    print(f'Player3 can\\'t beat Player{leader_num}!')\n",
    "                else:\n",
    "                    play1f = 0\n",
    "                    print(f'Player3 wins with {play2f}.')\n",
    "    else:\n",
    "        print('Player3 must spin again.')\n",
    "        spin2 = np.random.choice(choices)\n",
    "        print(f'Player3 spun {spin2}.')\n",
    "        if spin1 + spin2 > 100:\n",
    "            play3 = 0\n",
    "            print('Player3 is over!')\n",
    "        elif spin1 + spin2 < leader_val:\n",
    "            play3 = 0\n",
    "            print('Player3 can\\'t beat Player1 and Player2!')\n",
    "        else:\n",
    "            play3 = spin1 + spin2\n",
    "            if play3 > leader_val:\n",
    "                print(f'Player3 wins with {play3}.')\n",
    "            else:\n",
    "                print(f'We have a tie between Player3 and Player{leader_num}.')\n",
    "                print(f'Each player gets one more spin.')\n",
    "                play1f = np.random.choice(choices)\n",
    "                print(f'Player{leader_num} spun {play1f}.')\n",
    "                play2f = np.random.choice(choices)\n",
    "                print(f'Player3 spun {play2f}.')\n",
    "                if play2f == play1f:\n",
    "                    print('Player3 must spin again.')\n",
    "                    play2f += np.random.choice(choices)\n",
    "                    if play2f > 100:\n",
    "                        print('Player3 is over!')\n",
    "                        play2f = 0\n",
    "                elif play2f < play1f:\n",
    "                    play2f = 0\n",
    "                    print(f'Player3 can\\'t beat Player{leader_num}!')\n",
    "                else:\n",
    "                    play1f = 0\n",
    "                    print(f'Player3 wins with {play2f}.')\n",
    "        return play3"
   ]
  },
  {
   "cell_type": "code",
   "execution_count": null,
   "metadata": {},
   "outputs": [],
   "source": [
    "third_player(10, 30)"
   ]
  },
  {
   "cell_type": "code",
   "execution_count": null,
   "metadata": {},
   "outputs": [],
   "source": [
    "third_player(40, 60)"
   ]
  },
  {
   "cell_type": "code",
   "execution_count": null,
   "metadata": {},
   "outputs": [],
   "source": [
    "def play_full():\n",
    "    play1 = first_player()\n",
    "    play2 = second_player(play1)\n",
    "    play3 = third_player(play1, play2)"
   ]
  },
  {
   "cell_type": "code",
   "execution_count": null,
   "metadata": {},
   "outputs": [],
   "source": [
    "play_full()"
   ]
  },
  {
   "cell_type": "code",
   "execution_count": null,
   "metadata": {},
   "outputs": [],
   "source": [
    "play_full()"
   ]
  },
  {
   "cell_type": "code",
   "execution_count": null,
   "metadata": {},
   "outputs": [],
   "source": [
    "play_full()"
   ]
  }
 ],
 "metadata": {
  "kernelspec": {
   "display_name": "Python 3",
   "language": "python",
   "name": "python3"
  },
  "language_info": {
   "codemirror_mode": {
    "name": "ipython",
    "version": 3
   },
   "file_extension": ".py",
   "mimetype": "text/x-python",
   "name": "python",
   "nbconvert_exporter": "python",
   "pygments_lexer": "ipython3",
   "version": "3.7.2"
  }
 },
 "nbformat": 4,
 "nbformat_minor": 4
}
