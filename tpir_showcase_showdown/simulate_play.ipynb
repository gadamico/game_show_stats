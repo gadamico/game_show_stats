{
 "cells": [
  {
   "cell_type": "markdown",
   "metadata": {},
   "source": [
    "# TPIR Showcase Showdown Simulate Play"
   ]
  },
  {
   "cell_type": "code",
   "execution_count": 1,
   "metadata": {},
   "outputs": [],
   "source": [
    "import os, sys\n",
    "\n",
    "sys.path.append(os.pardir)"
   ]
  },
  {
   "cell_type": "code",
   "execution_count": 2,
   "metadata": {},
   "outputs": [],
   "source": [
    "from src.functions import *\n",
    "import numpy as np\n",
    "import pandas as pd\n",
    "from matplotlib import pyplot as plt"
   ]
  },
  {
   "cell_type": "code",
   "execution_count": 3,
   "metadata": {},
   "outputs": [
    {
     "name": "stdout",
     "output_type": "stream",
     "text": [
      "Player1 spun 55 cents. Will Player1 spin again?\n",
      "Yes or No: Yes\n",
      "Player1 spun 45.\n",
      "Player1 has 100.\n"
     ]
    }
   ],
   "source": [
    "first = first_player()"
   ]
  },
  {
   "cell_type": "code",
   "execution_count": 4,
   "metadata": {},
   "outputs": [
    {
     "name": "stdout",
     "output_type": "stream",
     "text": [
      "Player1 has 100.\n",
      "Player2 spun 55.\n",
      "Player2 must spin again.\n",
      "Player2 spun 65.\n",
      "Player2 is over!\n"
     ]
    }
   ],
   "source": [
    "second = second_player(first)"
   ]
  },
  {
   "cell_type": "code",
   "execution_count": 5,
   "metadata": {},
   "outputs": [
    {
     "name": "stdout",
     "output_type": "stream",
     "text": [
      "Player1 has 100.\n",
      "Player3 spun 80.\n",
      "Player3 must spin again.\n",
      "Player3 spun 80.\n",
      "Player3 is over!\n"
     ]
    },
    {
     "data": {
      "text/plain": [
       "0"
      ]
     },
     "execution_count": 5,
     "metadata": {},
     "output_type": "execute_result"
    }
   ],
   "source": [
    "third_player(first, second)"
   ]
  },
  {
   "cell_type": "code",
   "execution_count": 6,
   "metadata": {},
   "outputs": [
    {
     "name": "stdout",
     "output_type": "stream",
     "text": [
      "Player2 has 60.\n",
      "Player3 spun 35.\n",
      "Player3 must spin again.\n",
      "Player3 spun 25.\n",
      "We have a tie between Player3 and Player2.\n",
      "Each player gets one more spin.\n",
      "Player2 spun 80.\n",
      "Player3 spun 65.\n",
      "Player3 can't beat Player2!\n"
     ]
    },
    {
     "data": {
      "text/plain": [
       "60"
      ]
     },
     "execution_count": 6,
     "metadata": {},
     "output_type": "execute_result"
    }
   ],
   "source": [
    "third_player(40, 60)"
   ]
  },
  {
   "cell_type": "code",
   "execution_count": 7,
   "metadata": {},
   "outputs": [
    {
     "name": "stdout",
     "output_type": "stream",
     "text": [
      "Player1 spun 35 cents. Will Player1 spin again?\n",
      "Yes or No: Yes\n",
      "Player1 spun 50.\n",
      "Player1 has 85.\n",
      "Player1 has 85.\n",
      "Player2 spun 95.\n",
      "Player2 spun 95 cents. Will Player2 spin again?\n",
      "Yes or No: No\n",
      "Player2 has 95.\n",
      "Player3 spun 35.\n",
      "Player3 must spin again.\n",
      "Player3 spun 60.\n",
      "We have a tie between Player3 and Player2.\n",
      "Each player gets one more spin.\n",
      "Player2 spun 100.\n",
      "Player3 spun 30.\n",
      "Player3 can't beat Player2!\n"
     ]
    }
   ],
   "source": [
    "play_full()"
   ]
  },
  {
   "cell_type": "code",
   "execution_count": 8,
   "metadata": {},
   "outputs": [
    {
     "name": "stdout",
     "output_type": "stream",
     "text": [
      "Player1 spun 20 cents. Will Player1 spin again?\n",
      "Yes or No: Yes\n",
      "Player1 spun 65.\n",
      "Player1 has 85.\n",
      "Player1 has 85.\n",
      "Player2 spun 20.\n",
      "Player2 must spin again.\n",
      "Player2 spun 75.\n",
      "Player2 has 95.\n",
      "Player2 has 95.\n",
      "Player3 spun 80.\n",
      "Player3 must spin again.\n",
      "Player3 spun 15.\n",
      "We have a tie between Player3 and Player2.\n",
      "Each player gets one more spin.\n",
      "Player2 spun 45.\n",
      "Player3 spun 95.\n",
      "Player3 wins with 95.\n"
     ]
    }
   ],
   "source": [
    "play_full()"
   ]
  },
  {
   "cell_type": "code",
   "execution_count": 9,
   "metadata": {},
   "outputs": [
    {
     "name": "stdout",
     "output_type": "stream",
     "text": [
      "Player1 spun 15 cents. Will Player1 spin again?\n",
      "Yes or No: Yes\n",
      "Player1 spun 50.\n",
      "Player1 has 65.\n",
      "Player1 has 65.\n",
      "Player2 spun 55.\n",
      "Player2 must spin again.\n",
      "Player2 spun 50.\n",
      "Player2 is over!\n",
      "Player1 has 65.\n",
      "Player3 spun 60.\n",
      "Player3 must spin again.\n",
      "Player3 spun 50.\n",
      "Player3 is over!\n"
     ]
    }
   ],
   "source": [
    "play_full()"
   ]
  }
 ],
 "metadata": {
  "kernelspec": {
   "display_name": "Python 3",
   "language": "python",
   "name": "python3"
  },
  "language_info": {
   "codemirror_mode": {
    "name": "ipython",
    "version": 3
   },
   "file_extension": ".py",
   "mimetype": "text/x-python",
   "name": "python",
   "nbconvert_exporter": "python",
   "pygments_lexer": "ipython3",
   "version": "3.7.2"
  }
 },
 "nbformat": 4,
 "nbformat_minor": 4
}
