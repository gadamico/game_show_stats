{
 "cells": [
  {
   "cell_type": "markdown",
   "metadata": {},
   "source": [
    "# TPIR Showcase Showdown Statistical Simulations"
   ]
  },
  {
   "cell_type": "code",
   "execution_count": null,
   "metadata": {},
   "outputs": [],
   "source": [
    "import os, sys\n",
    "\n",
    "sys.path.append(os.pardir)"
   ]
  },
  {
   "cell_type": "code",
   "execution_count": null,
   "metadata": {},
   "outputs": [],
   "source": [
    "from src.functions import *\n",
    "import numpy as np\n",
    "import pandas as pd\n",
    "from matplotlib import pyplot as plt\n",
    "\n",
    "%load_ext autoreload\n",
    "%autoreload 2"
   ]
  },
  {
   "cell_type": "markdown",
   "metadata": {},
   "source": [
    "In this notebook we run a large number of simulations to confirm our probabilistic findings in `analysis.ipynb`."
   ]
  },
  {
   "cell_type": "code",
   "execution_count": null,
   "metadata": {},
   "outputs": [],
   "source": [
    "wheel = [i for i in range(5, 101, 5)]"
   ]
  },
  {
   "cell_type": "code",
   "execution_count": null,
   "metadata": {},
   "outputs": [],
   "source": [
    "def stats_player1(choices=wheel, spin_again=True, spin_first=None,\n",
    "                 opt_strategy=False):\n",
    "    if spin_first is None:\n",
    "        spin1 = np.random.choice(choices)\n",
    "    else:\n",
    "        spin1 = spin_first\n",
    "    if opt_strategy:\n",
    "        if spin1 > 65:\n",
    "            spin_again=False\n",
    "        else:\n",
    "            spin_again=True\n",
    "    if spin_again:\n",
    "        spin2 = np.random.choice(choices)\n",
    "        if spin1 + spin2 > 100:\n",
    "            play1 = 0\n",
    "        else:\n",
    "            play1 = spin1 + spin2\n",
    "    else:\n",
    "        play1 = spin1\n",
    "    return play1"
   ]
  },
  {
   "cell_type": "code",
   "execution_count": null,
   "metadata": {},
   "outputs": [],
   "source": [
    "stats_player1(spin_again=False)"
   ]
  },
  {
   "cell_type": "code",
   "execution_count": null,
   "metadata": {},
   "outputs": [],
   "source": [
    "spins1 =  []\n",
    "for _ in range(5000):\n",
    "    spins1.append(stats_player1(spin_again=False))\n",
    "\n",
    "plt.hist(spins1, bins=20);"
   ]
  },
  {
   "cell_type": "code",
   "execution_count": null,
   "metadata": {},
   "outputs": [],
   "source": [
    "def stats_player2(play1, choices=wheel, spin_again=True, spin_first=None,\n",
    "                 opt_strategy=False):\n",
    "    if spin_first is None:\n",
    "        spin1 = np.random.choice(choices)\n",
    "    else:\n",
    "        spin1 = spin_first\n",
    "    if opt_strategy:\n",
    "        if spin1 == play1:\n",
    "            if play1 > 65:\n",
    "                spin_again = False\n",
    "        elif spin1 > 50:\n",
    "            spin_again = False\n",
    "        else:\n",
    "            spin_again = True\n",
    "    if spin1 < play1:\n",
    "        spin_again = True\n",
    "    if spin_again:\n",
    "        spin2 = np.random.choice(choices)\n",
    "        if spin1 + spin2 > 100 or spin1 + spin2 < play1:\n",
    "            play2 = 0\n",
    "        else:\n",
    "            play2 = spin1 + spin2\n",
    "    else:\n",
    "        play2 = spin1\n",
    "    return play2"
   ]
  },
  {
   "cell_type": "code",
   "execution_count": null,
   "metadata": {},
   "outputs": [],
   "source": [
    "def stats_player3(leader, tie=False, choices=wheel, spin_again=True,\n",
    "                  spin_first=None, opt_strategy=False, gofordollar=False):\n",
    "    if spin_first is None:\n",
    "        spin1 = np.random.choice(choices)\n",
    "    else:\n",
    "        spin1 = spin_first\n",
    "    if opt_strategy:\n",
    "        if spin1 == leader:\n",
    "            if tie:\n",
    "                if leader > 65:\n",
    "                    spin_again = False\n",
    "                else:\n",
    "                    spin_again = True\n",
    "            else:\n",
    "                if leader > 50:\n",
    "                    spin_again = False\n",
    "                else:\n",
    "                    spin_again = True\n",
    "    if spin1 < leader:\n",
    "        spin_again = True\n",
    "    if leader == 0:\n",
    "        spin_again = False\n",
    "    if spin1 > leader:\n",
    "        if gofordollar == True:\n",
    "            spin_again = True\n",
    "        else:\n",
    "            spin_again = False\n",
    "    if spin_again:\n",
    "        spin2 = np.random.choice(choices)\n",
    "        if spin1 + spin2 > 100 or spin1 + spin2 < leader:\n",
    "            play3 = 0\n",
    "        else:\n",
    "            play3 = spin1 + spin2\n",
    "    else:\n",
    "        play3 = spin1\n",
    "    return play3"
   ]
  },
  {
   "cell_type": "code",
   "execution_count": null,
   "metadata": {},
   "outputs": [],
   "source": [
    "def showcase_showdown(plr1_first, plr1_again, plr2_first, plr2_again,\n",
    "                      plr3_first, plr3_again, plr1os=False, plr2os=False,\n",
    "                      plr3os=False, plr3gfd=False, tie=False):\n",
    "    import numpy as np\n",
    "    wheel = [i for i in range(5, 101, 5)]\n",
    "    plr1 = stats_player1(spin_again=plr1_again, spin_first=plr1_first,\n",
    "                        opt_strategy=plr1os)\n",
    "    plr2 = stats_player2(play1=plr1, spin_again=plr2_again,\n",
    "                         spin_first=plr2_first, opt_strategy=plr2os)\n",
    "    if plr1 > plr2:\n",
    "        leader = plr1\n",
    "    else:\n",
    "        leader = plr2\n",
    "    plr3 = stats_player3(leader, spin_again=plr3_again,\n",
    "                         spin_first=plr3_first, opt_strategy=plr3os,\n",
    "                         gofordollar=plr3gfd, tie=tie)\n",
    "    \n",
    "    score_dict = dict(enumerate([plr1, plr2, plr3], start=1))\n",
    "    \n",
    "    wnr = {k: v for k, v in score_dict.items() if v == max(score_dict.values())}\n",
    "    \n",
    "    if len(wnr) > 1:\n",
    "        return np.random.choice([k for k in wnr.keys()])\n",
    "    else:\n",
    "        return [k for k in wnr.keys()][0]"
   ]
  },
  {
   "cell_type": "code",
   "execution_count": null,
   "metadata": {},
   "outputs": [],
   "source": [
    "showcase_showdown(5, False, 10, False, 20, True)"
   ]
  },
  {
   "cell_type": "code",
   "execution_count": null,
   "metadata": {},
   "outputs": [],
   "source": [
    "results = []\n",
    "for _ in range(20000):\n",
    "    results.append(showcase_showdown(20, False, 45, False, None, True))\n",
    "plt.hist(results);"
   ]
  },
  {
   "cell_type": "markdown",
   "metadata": {},
   "source": [
    "### Player1 Spins 60"
   ]
  },
  {
   "cell_type": "markdown",
   "metadata": {},
   "source": [
    "#### Stay"
   ]
  },
  {
   "cell_type": "code",
   "execution_count": null,
   "metadata": {},
   "outputs": [],
   "source": [
    "results = []\n",
    "for _ in range(20000):\n",
    "    results.append(showcase_showdown(60, False, None, False, None, False))\n",
    "hist = plt.hist(results, bins=3)\n",
    "print(f\"Player1 won {hist[0][0]/200}% of the time.\")"
   ]
  },
  {
   "cell_type": "markdown",
   "metadata": {},
   "source": [
    "#### Spin Again"
   ]
  },
  {
   "cell_type": "code",
   "execution_count": null,
   "metadata": {},
   "outputs": [],
   "source": [
    "results = []\n",
    "for _ in range(20000):\n",
    "    results.append(showcase_showdown(60, True, None, False, None, False))\n",
    "hist = plt.hist(results, bins=3)\n",
    "print(f\"Player1 won {hist[0][0]/200}% of the time.\")"
   ]
  },
  {
   "cell_type": "markdown",
   "metadata": {},
   "source": [
    "### Player 1 Spins 65"
   ]
  },
  {
   "cell_type": "markdown",
   "metadata": {},
   "source": [
    "#### Stay"
   ]
  },
  {
   "cell_type": "code",
   "execution_count": null,
   "metadata": {},
   "outputs": [],
   "source": [
    "results = []\n",
    "for _ in range(20000):\n",
    "    results.append(showcase_showdown(65, False, None, False, None, False))\n",
    "hist = plt.hist(results, bins=3)\n",
    "print(f\"Player1 won {hist[0][0]/200}% of the time.\")"
   ]
  },
  {
   "cell_type": "markdown",
   "metadata": {},
   "source": [
    "####  Spin Again"
   ]
  },
  {
   "cell_type": "code",
   "execution_count": null,
   "metadata": {},
   "outputs": [],
   "source": [
    "results = []\n",
    "for _ in range(20000):\n",
    "    results.append(showcase_showdown(65, True, None, False, None, False))\n",
    "hist = plt.hist(results, bins=3)\n",
    "print(f\"Player1 won {hist[0][0]/200}% of the time.\")"
   ]
  },
  {
   "cell_type": "markdown",
   "metadata": {},
   "source": [
    "### Player 1 Spins 70"
   ]
  },
  {
   "cell_type": "markdown",
   "metadata": {},
   "source": [
    "#### Stay"
   ]
  },
  {
   "cell_type": "code",
   "execution_count": null,
   "metadata": {},
   "outputs": [],
   "source": [
    "results = []\n",
    "for _ in range(20000):\n",
    "    results.append(showcase_showdown(70, False, None, False, None, False))\n",
    "hist = plt.hist(results, bins=3)\n",
    "print(f\"Player1 won {hist[0][0]/200}% of the time.\")"
   ]
  },
  {
   "cell_type": "markdown",
   "metadata": {},
   "source": [
    "#### Spin Again"
   ]
  },
  {
   "cell_type": "code",
   "execution_count": null,
   "metadata": {},
   "outputs": [],
   "source": [
    "results = []\n",
    "for _ in range(20000):\n",
    "    results.append(showcase_showdown(70, True, None, False, None, False))\n",
    "hist = plt.hist(results, bins=3)\n",
    "print(f\"Player1 won {hist[0][0]/200}% of the time.\")"
   ]
  },
  {
   "cell_type": "markdown",
   "metadata": {},
   "source": [
    "### Player 2 Spins 50"
   ]
  },
  {
   "cell_type": "markdown",
   "metadata": {},
   "source": [
    "#### Stay"
   ]
  },
  {
   "cell_type": "code",
   "execution_count": null,
   "metadata": {},
   "outputs": [],
   "source": [
    "results = []\n",
    "for _ in range(20000):\n",
    "    results.append(showcase_showdown(0, False, 50, False, None, False))\n",
    "hist = plt.hist(results, bins=2)\n",
    "print(f\"Player2 won {hist[0][0]/200}% of the time.\")"
   ]
  },
  {
   "cell_type": "markdown",
   "metadata": {},
   "source": [
    "#### Spin Again"
   ]
  },
  {
   "cell_type": "code",
   "execution_count": null,
   "metadata": {},
   "outputs": [],
   "source": [
    "results = []\n",
    "for _ in range(20000):\n",
    "    results.append(showcase_showdown(0, False, 50, True, None, False))\n",
    "hist = plt.hist(results, bins=2)\n",
    "print(f\"Player2 won {hist[0][0]/200}% of the time.\")"
   ]
  },
  {
   "cell_type": "markdown",
   "metadata": {},
   "source": [
    "### Player 2 Spins 55"
   ]
  },
  {
   "cell_type": "markdown",
   "metadata": {},
   "source": [
    "#### Stay"
   ]
  },
  {
   "cell_type": "code",
   "execution_count": null,
   "metadata": {},
   "outputs": [],
   "source": [
    "results = []\n",
    "for _ in range(20000):\n",
    "    results.append(showcase_showdown(0, False, 55, False, None, False))\n",
    "hist = plt.hist(results, bins=2)\n",
    "print(f\"Player2 won {hist[0][0]/200}% of the time.\")"
   ]
  },
  {
   "cell_type": "markdown",
   "metadata": {},
   "source": [
    "#### Spin Again"
   ]
  },
  {
   "cell_type": "code",
   "execution_count": null,
   "metadata": {},
   "outputs": [],
   "source": [
    "results = []\n",
    "for _ in range(20000):\n",
    "    results.append(showcase_showdown(0, False, 55, True, None, False))\n",
    "hist = plt.hist(results, bins=2)\n",
    "print(f\"Player2 won {hist[0][0]/200}% of the time.\")"
   ]
  },
  {
   "cell_type": "markdown",
   "metadata": {},
   "source": [
    "### Results with Optimal Strategy"
   ]
  },
  {
   "cell_type": "code",
   "execution_count": null,
   "metadata": {},
   "outputs": [],
   "source": [
    "results = []\n",
    "for _ in range(20000):\n",
    "    results.append(showcase_showdown(None, False, None, False, None, False,\n",
    "                                     plr1os=True, plr2os=True, plr3os=True))\n",
    "hist = plt.hist(results, bins=3)\n",
    "print(f\"Player1 won {hist[0][0]/200}% of the time.\")\n",
    "print(f\"Player2 won {hist[0][1]/200}% of the time.\")\n",
    "print(f\"Player3 won {hist[0][2]/200}% of the time.\")"
   ]
  },
  {
   "cell_type": "code",
   "execution_count": null,
   "metadata": {},
   "outputs": [],
   "source": [
    "results = []\n",
    "for _ in range(20000):\n",
    "    results.append(showcase_showdown(None, False, None, False, None, False,\n",
    "                                     plr1os=True, plr2os=True, plr3gfd=True))\n",
    "hist = plt.hist(results, bins=3)\n",
    "print(f\"Player1 won {hist[0][0]/200}% of the time.\")\n",
    "print(f\"Player2 won {hist[0][1]/200}% of the time.\")\n",
    "print(f\"Player3 won {hist[0][2]/200}% of the time.\")"
   ]
  },
  {
   "cell_type": "markdown",
   "metadata": {},
   "source": [
    "### Optimal Strategy for Player 2 if the First Spin Ties Player 1"
   ]
  },
  {
   "cell_type": "markdown",
   "metadata": {},
   "source": [
    "#### 55 Cents, Stay"
   ]
  },
  {
   "cell_type": "code",
   "execution_count": null,
   "metadata": {},
   "outputs": [],
   "source": [
    "results = []\n",
    "for _ in range(20000):\n",
    "    results.append(showcase_showdown(55, False, 55, False, None, False))\n",
    "hist = plt.hist(results, bins=3)\n",
    "print(f\"Player1 won {hist[0][0]/200}% of the time.\")\n",
    "print(f\"Player2 won {hist[0][1]/200}% of the time.\")\n",
    "print(f\"Player3 won {hist[0][2]/200}% of the time.\")"
   ]
  },
  {
   "cell_type": "markdown",
   "metadata": {},
   "source": [
    "#### 55 Cents, Spin Again"
   ]
  },
  {
   "cell_type": "code",
   "execution_count": null,
   "metadata": {},
   "outputs": [],
   "source": [
    "results = []\n",
    "for _ in range(20000):\n",
    "    results.append(showcase_showdown(55, False, 55, True, None, False))\n",
    "hist = plt.hist(results, bins=3)\n",
    "print(f\"Player1 won {hist[0][0]/200}% of the time.\")\n",
    "print(f\"Player2 won {hist[0][1]/200}% of the time.\")\n",
    "print(f\"Player3 won {hist[0][2]/200}% of the time.\")"
   ]
  },
  {
   "cell_type": "markdown",
   "metadata": {},
   "source": [
    "#### 60 Cents, Stay"
   ]
  },
  {
   "cell_type": "code",
   "execution_count": null,
   "metadata": {},
   "outputs": [],
   "source": [
    "results = []\n",
    "for _ in range(20000):\n",
    "    results.append(showcase_showdown(60, False, 60, False, None, False))\n",
    "hist = plt.hist(results, bins=3)\n",
    "print(f\"Player1 won {hist[0][0]/200}% of the time.\")\n",
    "print(f\"Player2 won {hist[0][1]/200}% of the time.\")\n",
    "print(f\"Player3 won {hist[0][2]/200}% of the time.\")"
   ]
  },
  {
   "cell_type": "markdown",
   "metadata": {},
   "source": [
    "#### 60 Cents, Spin Again"
   ]
  },
  {
   "cell_type": "code",
   "execution_count": null,
   "metadata": {},
   "outputs": [],
   "source": [
    "results = []\n",
    "for _ in range(20000):\n",
    "    results.append(showcase_showdown(60, False, 60, True, None, False))\n",
    "hist = plt.hist(results, bins=3)\n",
    "print(f\"Player1 won {hist[0][0]/200}% of the time.\")\n",
    "print(f\"Player2 won {hist[0][1]/200}% of the time.\")\n",
    "print(f\"Player3 won {hist[0][2]/200}% of the time.\")"
   ]
  },
  {
   "cell_type": "markdown",
   "metadata": {},
   "source": [
    "#### 65 Cents, Stay"
   ]
  },
  {
   "cell_type": "code",
   "execution_count": null,
   "metadata": {},
   "outputs": [],
   "source": [
    "results = []\n",
    "for _ in range(20000):\n",
    "    results.append(showcase_showdown(65, False, 65, False, None, False))\n",
    "hist = plt.hist(results, bins=3)\n",
    "print(f\"Player1 won {hist[0][0]/200}% of the time.\")\n",
    "print(f\"Player2 won {hist[0][1]/200}% of the time.\")\n",
    "print(f\"Player3 won {hist[0][2]/200}% of the time.\")"
   ]
  },
  {
   "cell_type": "markdown",
   "metadata": {},
   "source": [
    "#### 65 Cents, Spin Again"
   ]
  },
  {
   "cell_type": "code",
   "execution_count": null,
   "metadata": {},
   "outputs": [],
   "source": [
    "results = []\n",
    "for _ in range(20000):\n",
    "    results.append(showcase_showdown(65, False, 65, True, None, False))\n",
    "hist = plt.hist(results, bins=3)\n",
    "print(f\"Player1 won {hist[0][0]/200}% of the time.\")\n",
    "print(f\"Player2 won {hist[0][1]/200}% of the time.\")\n",
    "print(f\"Player3 won {hist[0][2]/200}% of the time.\")"
   ]
  },
  {
   "cell_type": "markdown",
   "metadata": {},
   "source": [
    "#### 70 Cents, Stay"
   ]
  },
  {
   "cell_type": "code",
   "execution_count": null,
   "metadata": {},
   "outputs": [],
   "source": [
    "results = []\n",
    "for _ in range(20000):\n",
    "    results.append(showcase_showdown(70, False, 70, False, None, False))\n",
    "hist = plt.hist(results, bins=3)\n",
    "print(f\"Player1 won {hist[0][0]/200}% of the time.\")\n",
    "print(f\"Player2 won {hist[0][1]/200}% of the time.\")\n",
    "print(f\"Player3 won {hist[0][2]/200}% of the time.\")"
   ]
  },
  {
   "cell_type": "markdown",
   "metadata": {},
   "source": [
    "#### 70 Cents, Spin Again"
   ]
  },
  {
   "cell_type": "code",
   "execution_count": null,
   "metadata": {},
   "outputs": [],
   "source": [
    "results = []\n",
    "for _ in range(20000):\n",
    "    results.append(showcase_showdown(70, False, 70, True, None, False))\n",
    "hist = plt.hist(results, bins=3)\n",
    "print(f\"Player1 won {hist[0][0]/200}% of the time.\")\n",
    "print(f\"Player2 won {hist[0][1]/200}% of the time.\")\n",
    "print(f\"Player3 won {hist[0][2]/200}% of the time.\")"
   ]
  }
 ],
 "metadata": {
  "kernelspec": {
   "display_name": "Python 3",
   "language": "python",
   "name": "python3"
  },
  "language_info": {
   "codemirror_mode": {
    "name": "ipython",
    "version": 3
   },
   "file_extension": ".py",
   "mimetype": "text/x-python",
   "name": "python",
   "nbconvert_exporter": "python",
   "pygments_lexer": "ipython3",
   "version": "3.7.2"
  }
 },
 "nbformat": 4,
 "nbformat_minor": 4
}
